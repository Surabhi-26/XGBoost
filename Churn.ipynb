{
 "cells": [
  {
   "cell_type": "markdown",
   "id": "4420a05d-23f0-40a3-8d4f-fb99d0fb6260",
   "metadata": {},
   "source": [
    "## XGBOOST"
   ]
  },
  {
   "cell_type": "code",
   "execution_count": 1,
   "id": "01ae7cda-359f-4bed-8f20-24b9b8f9e4da",
   "metadata": {},
   "outputs": [],
   "source": [
    "import pandas as pd\n",
    "import numpy as np\n",
    "import xgboost as xgb\n",
    "from sklearn.model_selection import train_test_split\n"
   ]
  },
  {
   "cell_type": "code",
   "execution_count": 5,
   "id": "e3ef7f15-6c24-468e-8b11-af2c5a01c1cf",
   "metadata": {},
   "outputs": [],
   "source": [
    "df=pd.read_csv('telco.csv')"
   ]
  },
  {
   "cell_type": "code",
   "execution_count": 8,
   "id": "c2699563-58fd-4b15-adcf-223be5eca9f5",
   "metadata": {},
   "outputs": [
    {
     "data": {
      "text/plain": [
       "Customer ID                           object\n",
       "Gender                                object\n",
       "Age                                    int64\n",
       "Under 30                              object\n",
       "Senior Citizen                        object\n",
       "Married                               object\n",
       "Dependents                            object\n",
       "Number of Dependents                   int64\n",
       "Country                               object\n",
       "State                                 object\n",
       "City                                  object\n",
       "Zip Code                               int64\n",
       "Latitude                             float64\n",
       "Longitude                            float64\n",
       "Population                             int64\n",
       "Quarter                               object\n",
       "Referred a Friend                     object\n",
       "Number of Referrals                    int64\n",
       "Tenure in Months                       int64\n",
       "Offer                                 object\n",
       "Phone Service                         object\n",
       "Avg Monthly Long Distance Charges    float64\n",
       "Multiple Lines                        object\n",
       "Internet Service                      object\n",
       "Internet Type                         object\n",
       "Avg Monthly GB Download                int64\n",
       "Online Security                       object\n",
       "Online Backup                         object\n",
       "Device Protection Plan                object\n",
       "Premium Tech Support                  object\n",
       "Streaming TV                          object\n",
       "Streaming Movies                      object\n",
       "Streaming Music                       object\n",
       "Unlimited Data                        object\n",
       "Contract                              object\n",
       "Paperless Billing                     object\n",
       "Payment Method                        object\n",
       "Monthly Charge                       float64\n",
       "Total Charges                        float64\n",
       "Total Refunds                        float64\n",
       "Total Extra Data Charges               int64\n",
       "Total Long Distance Charges          float64\n",
       "Total Revenue                        float64\n",
       "Satisfaction Score                     int64\n",
       "Customer Status                       object\n",
       "Churn Label                           object\n",
       "Churn Score                            int64\n",
       "CLTV                                   int64\n",
       "Churn Category                        object\n",
       "Churn Reason                          object\n",
       "dtype: object"
      ]
     },
     "execution_count": 8,
     "metadata": {},
     "output_type": "execute_result"
    }
   ],
   "source": [
    "df.dtypes"
   ]
  },
  {
   "cell_type": "code",
   "execution_count": null,
   "id": "a77f64ff-8ad7-4815-9fda-2cc1ae9bbef7",
   "metadata": {},
   "outputs": [],
   "source": [
    "df.drop(['Customer ID','Under 30','Dependents','Zip Code','Population','Quarter','Referred a Friend','Avg Monthly Long Distance Charges','Paperless Billing','Total Long Distance Charges','Customer Status','Churn Score','CLTV','Churn Category','Churn Reason'],axis=1,inplace=True)"
   ]
  },
  {
   "cell_type": "code",
   "execution_count": 28,
   "id": "24db864f-d987-4d10-96c9-efb11211f198",
   "metadata": {},
   "outputs": [
    {
     "data": {
      "text/html": [
       "<div>\n",
       "<style scoped>\n",
       "    .dataframe tbody tr th:only-of-type {\n",
       "        vertical-align: middle;\n",
       "    }\n",
       "\n",
       "    .dataframe tbody tr th {\n",
       "        vertical-align: top;\n",
       "    }\n",
       "\n",
       "    .dataframe thead th {\n",
       "        text-align: right;\n",
       "    }\n",
       "</style>\n",
       "<table border=\"1\" class=\"dataframe\">\n",
       "  <thead>\n",
       "    <tr style=\"text-align: right;\">\n",
       "      <th></th>\n",
       "      <th>Gender</th>\n",
       "      <th>Age</th>\n",
       "      <th>Under 30</th>\n",
       "      <th>Senior Citizen</th>\n",
       "      <th>Married</th>\n",
       "      <th>Number of Dependents</th>\n",
       "      <th>Country</th>\n",
       "      <th>State</th>\n",
       "      <th>City</th>\n",
       "      <th>Latitude</th>\n",
       "      <th>...</th>\n",
       "      <th>Unlimited Data</th>\n",
       "      <th>Contract</th>\n",
       "      <th>Payment Method</th>\n",
       "      <th>Monthly Charge</th>\n",
       "      <th>Total Charges</th>\n",
       "      <th>Total Refunds</th>\n",
       "      <th>Total Extra Data Charges</th>\n",
       "      <th>Total Revenue</th>\n",
       "      <th>Satisfaction Score</th>\n",
       "      <th>Churn Label</th>\n",
       "    </tr>\n",
       "  </thead>\n",
       "  <tbody>\n",
       "    <tr>\n",
       "      <th>0</th>\n",
       "      <td>Male</td>\n",
       "      <td>78</td>\n",
       "      <td>No</td>\n",
       "      <td>Yes</td>\n",
       "      <td>No</td>\n",
       "      <td>0</td>\n",
       "      <td>United States</td>\n",
       "      <td>California</td>\n",
       "      <td>Los Angeles</td>\n",
       "      <td>34.023810</td>\n",
       "      <td>...</td>\n",
       "      <td>No</td>\n",
       "      <td>Month-to-Month</td>\n",
       "      <td>Bank Withdrawal</td>\n",
       "      <td>39.65</td>\n",
       "      <td>39.65</td>\n",
       "      <td>0.00</td>\n",
       "      <td>20</td>\n",
       "      <td>59.65</td>\n",
       "      <td>3</td>\n",
       "      <td>Yes</td>\n",
       "    </tr>\n",
       "    <tr>\n",
       "      <th>1</th>\n",
       "      <td>Female</td>\n",
       "      <td>74</td>\n",
       "      <td>No</td>\n",
       "      <td>Yes</td>\n",
       "      <td>Yes</td>\n",
       "      <td>1</td>\n",
       "      <td>United States</td>\n",
       "      <td>California</td>\n",
       "      <td>Los Angeles</td>\n",
       "      <td>34.044271</td>\n",
       "      <td>...</td>\n",
       "      <td>Yes</td>\n",
       "      <td>Month-to-Month</td>\n",
       "      <td>Credit Card</td>\n",
       "      <td>80.65</td>\n",
       "      <td>633.30</td>\n",
       "      <td>0.00</td>\n",
       "      <td>0</td>\n",
       "      <td>1024.10</td>\n",
       "      <td>3</td>\n",
       "      <td>Yes</td>\n",
       "    </tr>\n",
       "    <tr>\n",
       "      <th>2</th>\n",
       "      <td>Male</td>\n",
       "      <td>71</td>\n",
       "      <td>No</td>\n",
       "      <td>Yes</td>\n",
       "      <td>No</td>\n",
       "      <td>3</td>\n",
       "      <td>United States</td>\n",
       "      <td>California</td>\n",
       "      <td>Los Angeles</td>\n",
       "      <td>34.108833</td>\n",
       "      <td>...</td>\n",
       "      <td>Yes</td>\n",
       "      <td>Month-to-Month</td>\n",
       "      <td>Bank Withdrawal</td>\n",
       "      <td>95.45</td>\n",
       "      <td>1752.55</td>\n",
       "      <td>45.61</td>\n",
       "      <td>0</td>\n",
       "      <td>1910.88</td>\n",
       "      <td>2</td>\n",
       "      <td>Yes</td>\n",
       "    </tr>\n",
       "    <tr>\n",
       "      <th>3</th>\n",
       "      <td>Female</td>\n",
       "      <td>78</td>\n",
       "      <td>No</td>\n",
       "      <td>Yes</td>\n",
       "      <td>Yes</td>\n",
       "      <td>1</td>\n",
       "      <td>United States</td>\n",
       "      <td>California</td>\n",
       "      <td>Inglewood</td>\n",
       "      <td>33.936291</td>\n",
       "      <td>...</td>\n",
       "      <td>Yes</td>\n",
       "      <td>Month-to-Month</td>\n",
       "      <td>Bank Withdrawal</td>\n",
       "      <td>98.50</td>\n",
       "      <td>2514.50</td>\n",
       "      <td>13.43</td>\n",
       "      <td>0</td>\n",
       "      <td>2995.07</td>\n",
       "      <td>2</td>\n",
       "      <td>Yes</td>\n",
       "    </tr>\n",
       "    <tr>\n",
       "      <th>4</th>\n",
       "      <td>Female</td>\n",
       "      <td>80</td>\n",
       "      <td>No</td>\n",
       "      <td>Yes</td>\n",
       "      <td>Yes</td>\n",
       "      <td>1</td>\n",
       "      <td>United States</td>\n",
       "      <td>California</td>\n",
       "      <td>Whittier</td>\n",
       "      <td>33.972119</td>\n",
       "      <td>...</td>\n",
       "      <td>Yes</td>\n",
       "      <td>Month-to-Month</td>\n",
       "      <td>Bank Withdrawal</td>\n",
       "      <td>76.50</td>\n",
       "      <td>2868.15</td>\n",
       "      <td>0.00</td>\n",
       "      <td>0</td>\n",
       "      <td>3102.36</td>\n",
       "      <td>2</td>\n",
       "      <td>Yes</td>\n",
       "    </tr>\n",
       "  </tbody>\n",
       "</table>\n",
       "<p>5 rows × 36 columns</p>\n",
       "</div>"
      ],
      "text/plain": [
       "   Gender  Age Under 30 Senior Citizen Married  Number of Dependents  \\\n",
       "0    Male   78       No            Yes      No                     0   \n",
       "1  Female   74       No            Yes     Yes                     1   \n",
       "2    Male   71       No            Yes      No                     3   \n",
       "3  Female   78       No            Yes     Yes                     1   \n",
       "4  Female   80       No            Yes     Yes                     1   \n",
       "\n",
       "         Country       State         City   Latitude  ...  Unlimited Data  \\\n",
       "0  United States  California  Los Angeles  34.023810  ...              No   \n",
       "1  United States  California  Los Angeles  34.044271  ...             Yes   \n",
       "2  United States  California  Los Angeles  34.108833  ...             Yes   \n",
       "3  United States  California    Inglewood  33.936291  ...             Yes   \n",
       "4  United States  California     Whittier  33.972119  ...             Yes   \n",
       "\n",
       "         Contract   Payment Method Monthly Charge Total Charges Total Refunds  \\\n",
       "0  Month-to-Month  Bank Withdrawal          39.65         39.65          0.00   \n",
       "1  Month-to-Month      Credit Card          80.65        633.30          0.00   \n",
       "2  Month-to-Month  Bank Withdrawal          95.45       1752.55         45.61   \n",
       "3  Month-to-Month  Bank Withdrawal          98.50       2514.50         13.43   \n",
       "4  Month-to-Month  Bank Withdrawal          76.50       2868.15          0.00   \n",
       "\n",
       "  Total Extra Data Charges Total Revenue  Satisfaction Score Churn Label  \n",
       "0                       20         59.65                   3         Yes  \n",
       "1                        0       1024.10                   3         Yes  \n",
       "2                        0       1910.88                   2         Yes  \n",
       "3                        0       2995.07                   2         Yes  \n",
       "4                        0       3102.36                   2         Yes  \n",
       "\n",
       "[5 rows x 36 columns]"
      ]
     },
     "execution_count": 28,
     "metadata": {},
     "output_type": "execute_result"
    }
   ],
   "source": [
    "df.head()"
   ]
  },
  {
   "cell_type": "code",
   "execution_count": 37,
   "id": "a634bb25-7744-46b1-8186-9157c7e2559c",
   "metadata": {},
   "outputs": [
    {
     "data": {
      "text/plain": [
       "Gender                       object\n",
       "Age                           int64\n",
       "Senior Citizen               object\n",
       "Married                       int64\n",
       "Number of Dependents          int64\n",
       "Country                      object\n",
       "State                        object\n",
       "City                         object\n",
       "Latitude                    float64\n",
       "Longitude                   float64\n",
       "Number of Referrals           int64\n",
       "Tenure in Months              int64\n",
       "Offer                        object\n",
       "Phone Service                object\n",
       "Multiple Lines               object\n",
       "Internet Service             object\n",
       "Internet Type                object\n",
       "Avg Monthly GB Download       int64\n",
       "Online Security              object\n",
       "Online Backup                object\n",
       "Device Protection Plan       object\n",
       "Premium Tech Support         object\n",
       "Streaming TV                 object\n",
       "Streaming Movies             object\n",
       "Streaming Music              object\n",
       "Unlimited Data               object\n",
       "Contract                     object\n",
       "Payment Method               object\n",
       "Monthly Charge              float64\n",
       "Total Charges               float64\n",
       "Total Refunds               float64\n",
       "Total Extra Data Charges      int64\n",
       "Total Revenue               float64\n",
       "Satisfaction Score            int64\n",
       "Churn Label                  object\n",
       "dtype: object"
      ]
     },
     "execution_count": 37,
     "metadata": {},
     "output_type": "execute_result"
    }
   ],
   "source": [
    "df.dtypes"
   ]
  },
  {
   "cell_type": "code",
   "execution_count": 49,
   "id": "7c3bc272-d8f9-418e-8068-0e5f787f7322",
   "metadata": {},
   "outputs": [
    {
     "data": {
      "text/plain": [
       "array(['Month-to-Month', 'One Year', 'Two Year'], dtype=object)"
      ]
     },
     "execution_count": 49,
     "metadata": {},
     "output_type": "execute_result"
    }
   ],
   "source": [
    "df['Contract'].unique()"
   ]
  },
  {
   "cell_type": "code",
   "execution_count": 50,
   "id": "181a85a3-404c-4568-bb9a-248b35a12e75",
   "metadata": {},
   "outputs": [
    {
     "name": "stderr",
     "output_type": "stream",
     "text": [
      "C:\\Users\\Surbhi\\AppData\\Local\\Temp\\ipykernel_11012\\1042593085.py:2: FutureWarning: Downcasting behavior in `replace` is deprecated and will be removed in a future version. To retain the old behavior, explicitly call `result.infer_objects(copy=False)`. To opt-in to the future behavior, set `pd.set_option('future.no_silent_downcasting', True)`\n",
      "  df['Senior Citizen'] = df['Senior Citizen'].replace({'Yes': 1, 'No': 0})\n",
      "C:\\Users\\Surbhi\\AppData\\Local\\Temp\\ipykernel_11012\\1042593085.py:3: FutureWarning: Downcasting behavior in `replace` is deprecated and will be removed in a future version. To retain the old behavior, explicitly call `result.infer_objects(copy=False)`. To opt-in to the future behavior, set `pd.set_option('future.no_silent_downcasting', True)`\n",
      "  df['Phone Service'] = df['Phone Service'].replace({'Yes': 1, 'No': 0})\n",
      "C:\\Users\\Surbhi\\AppData\\Local\\Temp\\ipykernel_11012\\1042593085.py:4: FutureWarning: Downcasting behavior in `replace` is deprecated and will be removed in a future version. To retain the old behavior, explicitly call `result.infer_objects(copy=False)`. To opt-in to the future behavior, set `pd.set_option('future.no_silent_downcasting', True)`\n",
      "  df['Multiple Lines'] = df['Multiple Lines'].replace({'Yes': 1, 'No': 0})\n",
      "C:\\Users\\Surbhi\\AppData\\Local\\Temp\\ipykernel_11012\\1042593085.py:5: FutureWarning: Downcasting behavior in `replace` is deprecated and will be removed in a future version. To retain the old behavior, explicitly call `result.infer_objects(copy=False)`. To opt-in to the future behavior, set `pd.set_option('future.no_silent_downcasting', True)`\n",
      "  df['Internet Service'] = df['Internet Service'].replace({'Yes': 1, 'No': 0})\n",
      "C:\\Users\\Surbhi\\AppData\\Local\\Temp\\ipykernel_11012\\1042593085.py:6: FutureWarning: Downcasting behavior in `replace` is deprecated and will be removed in a future version. To retain the old behavior, explicitly call `result.infer_objects(copy=False)`. To opt-in to the future behavior, set `pd.set_option('future.no_silent_downcasting', True)`\n",
      "  df['Online Security'] = df['Online Security'].replace({'Yes': 1, 'No': 0})\n",
      "C:\\Users\\Surbhi\\AppData\\Local\\Temp\\ipykernel_11012\\1042593085.py:7: FutureWarning: Downcasting behavior in `replace` is deprecated and will be removed in a future version. To retain the old behavior, explicitly call `result.infer_objects(copy=False)`. To opt-in to the future behavior, set `pd.set_option('future.no_silent_downcasting', True)`\n",
      "  df['Online Backup'] = df['Online Backup'].replace({'Yes': 1, 'No': 0})\n",
      "C:\\Users\\Surbhi\\AppData\\Local\\Temp\\ipykernel_11012\\1042593085.py:8: FutureWarning: Downcasting behavior in `replace` is deprecated and will be removed in a future version. To retain the old behavior, explicitly call `result.infer_objects(copy=False)`. To opt-in to the future behavior, set `pd.set_option('future.no_silent_downcasting', True)`\n",
      "  df['Device Protection Plan'] = df['Device Protection Plan'].replace({'Yes': 1, 'No': 0})\n",
      "C:\\Users\\Surbhi\\AppData\\Local\\Temp\\ipykernel_11012\\1042593085.py:9: FutureWarning: Downcasting behavior in `replace` is deprecated and will be removed in a future version. To retain the old behavior, explicitly call `result.infer_objects(copy=False)`. To opt-in to the future behavior, set `pd.set_option('future.no_silent_downcasting', True)`\n",
      "  df['Premium Tech Support'] = df['Premium Tech Support'].replace({'Yes': 1, 'No': 0})\n",
      "C:\\Users\\Surbhi\\AppData\\Local\\Temp\\ipykernel_11012\\1042593085.py:10: FutureWarning: Downcasting behavior in `replace` is deprecated and will be removed in a future version. To retain the old behavior, explicitly call `result.infer_objects(copy=False)`. To opt-in to the future behavior, set `pd.set_option('future.no_silent_downcasting', True)`\n",
      "  df['Streaming TV'] = df['Streaming TV'].replace({'Yes': 1, 'No': 0})\n",
      "C:\\Users\\Surbhi\\AppData\\Local\\Temp\\ipykernel_11012\\1042593085.py:11: FutureWarning: Downcasting behavior in `replace` is deprecated and will be removed in a future version. To retain the old behavior, explicitly call `result.infer_objects(copy=False)`. To opt-in to the future behavior, set `pd.set_option('future.no_silent_downcasting', True)`\n",
      "  df['Streaming Movies'] = df['Streaming Movies'].replace({'Yes': 1, 'No': 0})\n",
      "C:\\Users\\Surbhi\\AppData\\Local\\Temp\\ipykernel_11012\\1042593085.py:12: FutureWarning: Downcasting behavior in `replace` is deprecated and will be removed in a future version. To retain the old behavior, explicitly call `result.infer_objects(copy=False)`. To opt-in to the future behavior, set `pd.set_option('future.no_silent_downcasting', True)`\n",
      "  df['Streaming Music'] = df['Streaming Music'].replace({'Yes': 1, 'No': 0})\n",
      "C:\\Users\\Surbhi\\AppData\\Local\\Temp\\ipykernel_11012\\1042593085.py:13: FutureWarning: Downcasting behavior in `replace` is deprecated and will be removed in a future version. To retain the old behavior, explicitly call `result.infer_objects(copy=False)`. To opt-in to the future behavior, set `pd.set_option('future.no_silent_downcasting', True)`\n",
      "  df['Unlimited Data'] = df['Unlimited Data'].replace({'Yes': 1, 'No': 0})\n",
      "C:\\Users\\Surbhi\\AppData\\Local\\Temp\\ipykernel_11012\\1042593085.py:14: FutureWarning: Downcasting behavior in `replace` is deprecated and will be removed in a future version. To retain the old behavior, explicitly call `result.infer_objects(copy=False)`. To opt-in to the future behavior, set `pd.set_option('future.no_silent_downcasting', True)`\n",
      "  df['Churn Label'] = df['Churn Label'].replace({'Yes': 1, 'No': 0})\n"
     ]
    }
   ],
   "source": [
    "df['Married'] = df['Married'].replace({'Yes': 1, 'No': 0})\n",
    "df['Senior Citizen'] = df['Senior Citizen'].replace({'Yes': 1, 'No': 0})\n",
    "df['Phone Service'] = df['Phone Service'].replace({'Yes': 1, 'No': 0})\n",
    "df['Multiple Lines'] = df['Multiple Lines'].replace({'Yes': 1, 'No': 0})\n",
    "df['Internet Service'] = df['Internet Service'].replace({'Yes': 1, 'No': 0})\n",
    "df['Online Security'] = df['Online Security'].replace({'Yes': 1, 'No': 0})\n",
    "df['Online Backup'] = df['Online Backup'].replace({'Yes': 1, 'No': 0})\n",
    "df['Device Protection Plan'] = df['Device Protection Plan'].replace({'Yes': 1, 'No': 0})\n",
    "df['Premium Tech Support'] = df['Premium Tech Support'].replace({'Yes': 1, 'No': 0})\n",
    "df['Streaming TV'] = df['Streaming TV'].replace({'Yes': 1, 'No': 0})\n",
    "df['Streaming Movies'] = df['Streaming Movies'].replace({'Yes': 1, 'No': 0})\n",
    "df['Streaming Music'] = df['Streaming Music'].replace({'Yes': 1, 'No': 0})\n",
    "df['Unlimited Data'] = df['Unlimited Data'].replace({'Yes': 1, 'No': 0})\n",
    "df['Churn Label'] = df['Churn Label'].replace({'Yes': 1, 'No': 0})"
   ]
  },
  {
   "cell_type": "code",
   "execution_count": 51,
   "id": "2b0050c4-e2ff-45ff-bf30-bdf022088119",
   "metadata": {},
   "outputs": [
    {
     "data": {
      "text/plain": [
       "Gender                       object\n",
       "Age                           int64\n",
       "Senior Citizen                int64\n",
       "Married                       int64\n",
       "Number of Dependents          int64\n",
       "Country                      object\n",
       "State                        object\n",
       "City                         object\n",
       "Latitude                    float64\n",
       "Longitude                   float64\n",
       "Number of Referrals           int64\n",
       "Tenure in Months              int64\n",
       "Offer                        object\n",
       "Phone Service                 int64\n",
       "Multiple Lines                int64\n",
       "Internet Service              int64\n",
       "Internet Type                object\n",
       "Avg Monthly GB Download       int64\n",
       "Online Security               int64\n",
       "Online Backup                 int64\n",
       "Device Protection Plan        int64\n",
       "Premium Tech Support          int64\n",
       "Streaming TV                  int64\n",
       "Streaming Movies              int64\n",
       "Streaming Music               int64\n",
       "Unlimited Data                int64\n",
       "Contract                     object\n",
       "Payment Method               object\n",
       "Monthly Charge              float64\n",
       "Total Charges               float64\n",
       "Total Refunds               float64\n",
       "Total Extra Data Charges      int64\n",
       "Total Revenue               float64\n",
       "Satisfaction Score            int64\n",
       "Churn Label                   int64\n",
       "dtype: object"
      ]
     },
     "execution_count": 51,
     "metadata": {},
     "output_type": "execute_result"
    }
   ],
   "source": [
    "df.dtypes"
   ]
  },
  {
   "cell_type": "code",
   "execution_count": 53,
   "id": "e0d8907d-bba2-49f9-b82a-bb3aa358c8ab",
   "metadata": {},
   "outputs": [],
   "source": [
    "X=df.drop('Churn Label',axis=1)"
   ]
  },
  {
   "cell_type": "code",
   "execution_count": 55,
   "id": "aa051b1a-b01b-42b6-bb04-8d6ebda04a4f",
   "metadata": {},
   "outputs": [],
   "source": [
    "X=pd.get_dummies(X,columns=['Gender','Country','State','City','Offer','Internet Type','Contract','Payment Method'])"
   ]
  },
  {
   "cell_type": "code",
   "execution_count": 62,
   "id": "79870caf-8b35-4fe2-9dfa-16f24312532b",
   "metadata": {},
   "outputs": [],
   "source": [
    "y=df['Churn Label']"
   ]
  },
  {
   "cell_type": "code",
   "execution_count": 65,
   "id": "242181c2-4266-422c-b8be-8a49dd8745af",
   "metadata": {},
   "outputs": [],
   "source": [
    "X_train,X_test,y_train,y_test=train_test_split(X,y,test_size=.2,random_state=0,stratify=y)"
   ]
  },
  {
   "cell_type": "code",
   "execution_count": 66,
   "id": "7f5b3089-ab7d-4b17-b308-1d3fcc43cb06",
   "metadata": {},
   "outputs": [],
   "source": [
    "train=xgb.DMatrix(X_train,label=y_train)\n",
    "test=xgb.DMatrix(X_test,label=y_test)"
   ]
  },
  {
   "cell_type": "code",
   "execution_count": 67,
   "id": "11a1237e-ee5f-4dc4-bb1a-f78f496cf9e6",
   "metadata": {},
   "outputs": [],
   "source": [
    "param = {\n",
    "    'max_depth': 4,\n",
    "    'eta': 0.1,\n",
    "    'objective': 'binary:logistic',\n",
    "    'num_class': 1} \n",
    "epochs = 50 "
   ]
  },
  {
   "cell_type": "code",
   "execution_count": 68,
   "id": "470badcd-7c32-4959-86a7-11907bd06d07",
   "metadata": {},
   "outputs": [],
   "source": [
    "model = xgb.train(param, train, epochs)"
   ]
  },
  {
   "cell_type": "code",
   "execution_count": 71,
   "id": "f85e7575-3e49-4c5f-9251-2f7bfa14f57b",
   "metadata": {},
   "outputs": [],
   "source": [
    "predictions = [1 if x > 0.5 else 0 for x in predictions]"
   ]
  },
  {
   "cell_type": "code",
   "execution_count": 72,
   "id": "ada90972-ace7-427c-b566-62bb3b16c677",
   "metadata": {},
   "outputs": [
    {
     "data": {
      "text/plain": [
       "0.9730305180979418"
      ]
     },
     "execution_count": 72,
     "metadata": {},
     "output_type": "execute_result"
    }
   ],
   "source": [
    "from sklearn.metrics import accuracy_score\n",
    "accuracy_score(y_test, predictions)"
   ]
  },
  {
   "cell_type": "code",
   "execution_count": 74,
   "id": "2827f9df-7491-43ec-ba34-bcc53bc9e1b3",
   "metadata": {},
   "outputs": [
    {
     "data": {
      "image/png": "[encoded data removed]",
      "text/plain": [
       "<Figure size 1000x700 with 2 Axes>"
      ]
     },
     "metadata": {},
     "output_type": "display_data"
    }
   ],
   "source": [
    "import matplotlib.pyplot as plt\n",
    "import seaborn as sns\n",
    "from sklearn.metrics import confusion_matrix\n",
    "\n",
    "\n",
    "conf_matrix = confusion_matrix(y_test, predictions)\n",
    "\n",
    "plt.figure(figsize=(10, 7))\n",
    "sns.heatmap(conf_matrix, annot=True, fmt='d', cmap='Reds', xticklabels=['Churned','Not Churned'], yticklabels=['Churned','Not Churned'])\n",
    "plt.xlabel('Predicted')\n",
    "plt.ylabel('Actual')\n",
    "plt.title('Confusion Matrix')\n",
    "plt.show()"
   ]
  },
  {
   "cell_type": "code",
   "execution_count": null,
   "id": "2f5d1967-912d-4a81-9171-9255039a2380",
   "metadata": {},
   "outputs": [],
   "source": []
  }
 ],
 "metadata": {
  "kernelspec": {
   "display_name": "Python 3 (ipykernel)",
   "language": "python",
   "name": "python3"
  },
  "language_info": {
   "codemirror_mode": {
    "name": "ipython",
    "version": 3
   },
   "file_extension": ".py",
   "mimetype": "text/x-python",
   "name": "python",
   "nbconvert_exporter": "python",
   "pygments_lexer": "ipython3",
   "version": "3.11.9"
  }
 },
 "nbformat": 4,
 "nbformat_minor": 5
}
